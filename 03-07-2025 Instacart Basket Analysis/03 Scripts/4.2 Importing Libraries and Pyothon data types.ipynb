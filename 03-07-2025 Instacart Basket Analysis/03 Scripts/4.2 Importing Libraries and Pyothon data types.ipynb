{
 "cells": [
  {
   "cell_type": "markdown",
   "id": "c1d3f883-832e-440f-9855-58e56bc51cdb",
   "metadata": {},
   "source": [
    "# 01. Importing libraries"
   ]
  },
  {
   "cell_type": "code",
   "execution_count": 4,
   "id": "59bb0b87-ea6a-4b58-b1ab-1c5655f422bd",
   "metadata": {},
   "outputs": [],
   "source": [
    "# Import libraries\n",
    "import pandas as pd\n",
    "import numpy as np\n",
    "import os"
   ]
  },
  {
   "cell_type": "code",
   "execution_count": 29,
   "id": "96e03fc1-da37-431e-a4d6-93381ee32259",
   "metadata": {},
   "outputs": [
    {
     "data": {
      "text/plain": [
       "100"
      ]
     },
     "execution_count": 29,
     "metadata": {},
     "output_type": "execute_result"
    }
   ],
   "source": [
    "# Data types\n",
    "50 + 50"
   ]
  },
  {
   "cell_type": "code",
   "execution_count": 30,
   "id": "f5cfbb40-09c2-4b89-b658-7475d0e87e89",
   "metadata": {},
   "outputs": [
    {
     "data": {
      "text/plain": [
       "100"
      ]
     },
     "execution_count": 30,
     "metadata": {},
     "output_type": "execute_result"
    }
   ],
   "source": [
    "150 - 50"
   ]
  },
  {
   "cell_type": "code",
   "execution_count": 31,
   "id": "95564331-088b-4155-a21a-066d8aa8d1b4",
   "metadata": {},
   "outputs": [
    {
     "data": {
      "text/plain": [
       "100"
      ]
     },
     "execution_count": 31,
     "metadata": {},
     "output_type": "execute_result"
    }
   ],
   "source": [
    "50 * 2"
   ]
  },
  {
   "cell_type": "code",
   "execution_count": 6,
   "id": "49cd70f1-20d2-46e7-93fc-534eb6b85d45",
   "metadata": {},
   "outputs": [
    {
     "data": {
      "text/plain": [
       "1.574468085106383"
      ]
     },
     "execution_count": 6,
     "metadata": {},
     "output_type": "execute_result"
    }
   ],
   "source": [
    "7.4 / 4.7"
   ]
  },
  {
   "cell_type": "code",
   "execution_count": 18,
   "id": "8e4a8e3a-e48a-4c23-9870-5985ea4954af",
   "metadata": {},
   "outputs": [],
   "source": [
    "f = 'fire'"
   ]
  },
  {
   "cell_type": "code",
   "execution_count": 19,
   "id": "809f6f81-e862-494c-9526-2e10cc98de4c",
   "metadata": {},
   "outputs": [],
   "source": [
    "t = 'truck'"
   ]
  },
  {
   "cell_type": "code",
   "execution_count": 20,
   "id": "cb9a665a-6c87-43d3-adc5-d84a5e1ff590",
   "metadata": {},
   "outputs": [
    {
     "data": {
      "text/plain": [
       "'firetruck'"
      ]
     },
     "execution_count": 20,
     "metadata": {},
     "output_type": "execute_result"
    }
   ],
   "source": [
    "f + t"
   ]
  },
  {
   "cell_type": "code",
   "execution_count": 13,
   "id": "ade72133-7203-443d-bc15-63d137638799",
   "metadata": {},
   "outputs": [],
   "source": [
    "a = 'Hello, '"
   ]
  },
  {
   "cell_type": "code",
   "execution_count": 21,
   "id": "b7276be1-0888-4707-934b-d460f657ad4d",
   "metadata": {},
   "outputs": [],
   "source": [
    "b = 'Dave.'"
   ]
  },
  {
   "cell_type": "code",
   "execution_count": 27,
   "id": "72acecc3-b6db-4cb9-9f9c-af3cdcd73cda",
   "metadata": {},
   "outputs": [],
   "source": [
    "c = ' How '"
   ]
  },
  {
   "cell_type": "code",
   "execution_count": 24,
   "id": "14591118-88c1-4808-a03a-302f06e39104",
   "metadata": {},
   "outputs": [],
   "source": [
    "d = 'are '"
   ]
  },
  {
   "cell_type": "code",
   "execution_count": 25,
   "id": "b4a17253-34b0-4500-b977-76634e918940",
   "metadata": {},
   "outputs": [],
   "source": [
    "e = 'you?'"
   ]
  },
  {
   "cell_type": "code",
   "execution_count": 28,
   "id": "36afd852-7a33-4be0-9fe3-cb1410de1e3b",
   "metadata": {},
   "outputs": [
    {
     "data": {
      "text/plain": [
       "'Hello, Dave. How are you?'"
      ]
     },
     "execution_count": 28,
     "metadata": {},
     "output_type": "execute_result"
    }
   ],
   "source": [
    "a + b + c + d + e"
   ]
  }
 ],
 "metadata": {
  "kernelspec": {
   "display_name": "Python [conda env:base] *",
   "language": "python",
   "name": "conda-base-py"
  },
  "language_info": {
   "codemirror_mode": {
    "name": "ipython",
    "version": 3
   },
   "file_extension": ".py",
   "mimetype": "text/x-python",
   "name": "python",
   "nbconvert_exporter": "python",
   "pygments_lexer": "ipython3",
   "version": "3.13.5"
  }
 },
 "nbformat": 4,
 "nbformat_minor": 5
}
